{
 "cells": [
  {
   "cell_type": "markdown",
   "metadata": {},
   "source": [
    "# Adaptive Intelligence Assignment 1\n",
    "\n",
    "\n",
    "I provide here an Python implementation of the neural network described in the assignment.\n",
    "This code is an extension of the code provided in the lab week 2 of the module, therefore, a major part of the credit goes to this implementation. "
   ]
  },
  {
   "cell_type": "code",
   "execution_count": 13,
   "metadata": {},
   "outputs": [],
   "source": [
    "import numpy as np;\n",
    "import random\n",
    "import numpy.matlib \n",
    "import math\n",
    "import matplotlib.pyplot as plt\n",
    "import csv\n",
    "import pandas as pd;\n",
    "from sklearn.model_selection import train_test_split\n",
    "from sklearn.utils import shuffle\n",
    "from sklearn import preprocessing"
   ]
  },
  {
   "cell_type": "code",
   "execution_count": 14,
   "metadata": {},
   "outputs": [
    {
     "name": "stdout",
     "output_type": "stream",
     "text": [
      "Training Samples * (28*28) = (20800, 784)\n",
      "Training Labels (20800, 1)\n",
      "Testing Samples * (28*28) = (6500, 784)\n",
      "Testing Labels  (6500, 1)\n",
      "Validation Samples * (28*28) = (5200, 784)\n",
      "Validation Labels  (5200, 1)\n"
     ]
    }
   ],
   "source": [
    "# Load the EMNIST dataset.\n",
    "# REF : Cohen, G., Afshar, S., Tapson, J., & van Schaik, A. (2017). \n",
    "# EMNIST: an extension of MNIST to handwritten letters. Retrieved from http://arxiv.org/abs/1702.05373\n",
    "# Here the EMNIST data has been modified so the size is 1000 samples per class for training\n",
    "# and 250 per class for testing\n",
    "\n",
    "from scipy.io import loadmat\n",
    "\n",
    "emnist = loadmat('emnist-letters-1k.mat')\n",
    "\n",
    "# Read the train set\n",
    "x_train = emnist['train_images']\n",
    "# Read the train labels\n",
    "trainlabels = emnist['train_labels']\n",
    "\n",
    "# Read the test set\n",
    "x_test = emnist['test_images']\n",
    "# Read the test labels\n",
    "testlabels = emnist['test_labels']\n",
    "\n",
    "# Randomise Test set\n",
    "X_test, test_labels = shuffle(x_test, testlabels)\n",
    "\n",
    "# Apply the split between Train and Validation sets (Randomly selected from 20% of Training Set)\n",
    "X_train, X_validation, train_labels, validation_labels = train_test_split(\n",
    "    x_train, trainlabels, test_size = 0.2, random_state = None) \n",
    "\n",
    "# Normalise the Sets\n",
    "NX_train = preprocessing.normalize(X_train)\n",
    "NX_test = preprocessing.normalize(X_test)\n",
    "NX_validation = preprocessing.normalize(X_validation)\n",
    "\n",
    "# Show the shape of each of these arrays\n",
    "# Our convention is for the first dimension to be the number of samples\n",
    "print(\"Training Samples * (28*28) =\", NX_train.shape)\n",
    "print(\"Training Labels\", train_labels.shape)\n",
    "\n",
    "print(\"Testing Samples * (28*28) =\", NX_test.shape)\n",
    "print(\"Testing Labels \", test_labels.shape)\n",
    "\n",
    "print(\"Validation Samples * (28*28) =\", NX_validation.shape)\n",
    "print(\"Validation Labels \", validation_labels.shape)\n",
    "n_samples, img_size = NX_train.shape\n",
    "\n",
    "# The EMNIST contains letters from A to Z so we will set the number of labels as 26\n",
    "nlabels = 26"
   ]
  },
  {
   "cell_type": "code",
   "execution_count": 15,
   "metadata": {},
   "outputs": [],
   "source": [
    "# Perform One-Hot Enconding\n",
    "\n",
    "y_train = np.zeros((train_labels.shape[0], nlabels))\n",
    "y_test  = np.zeros((test_labels.shape[0], nlabels))\n",
    "y_validation = np.zeros((validation_labels.shape[0], nlabels))\n",
    "\n",
    "for i in range(0,train_labels.shape[0]):   \n",
    "    y_train[i, train_labels[i].astype(int)]=1\n",
    "    \n",
    "for i in range(0,test_labels.shape[0]):    \n",
    "    y_test[i, test_labels[i].astype(int)]=1\n",
    "    \n",
    "for i in range(0,validation_labels.shape[0]):\n",
    "    y_validation[i, validation_labels[i].astype(int)]=1"
   ]
  },
  {
   "cell_type": "code",
   "execution_count": 16,
   "metadata": {},
   "outputs": [
    {
     "data": {
      "image/png": "[encoded data removed]",
      "text/plain": [
       "<Figure size 432x288 with 1 Axes>"
      ]
     },
     "metadata": {
      "needs_background": "light"
     },
     "output_type": "display_data"
    }
   ],
   "source": [
    "# ReLU Function\n",
    "def ReLU(x):\n",
    "    return max(0, x)\n",
    "\n",
    "def Der_ReLU(x):\n",
    "    return np.greater(x, 0).astype(int)\n",
    "\n",
    "# Plot ReLU Function\n",
    "x = np.arange(-5, 6, 0.01)\n",
    "y = [ReLU(x) for x in x]\n",
    "y2 =[Der_ReLU(x) for x in x]\n",
    "\n",
    "plt.plot(x, y, label='ReLU')\n",
    "plt.plot(x, y2, label='Gradient of ReLU')\n",
    "plt.xlabel('x')\n",
    "plt.ylabel('ReLU')\n",
    "plt.title('ReLU as a function of x')\n",
    "plt.legend()\n",
    "plt.show()\n",
    "\n",
    "# The derivative of ReLU is :\n",
    "# ReLU'(x) = 0 if x < 0\n",
    "# ReLU'(x) = 1 if x > 0\n",
    "# Not defined if x = 0"
   ]
  },
  {
   "cell_type": "code",
   "execution_count": 17,
   "metadata": {},
   "outputs": [
    {
     "data": {
      "image/png": "[encoded data removed]",
      "text/plain": [
       "<Figure size 432x288 with 1 Axes>"
      ]
     },
     "metadata": {
      "needs_background": "light"
     },
     "output_type": "display_data"
    },
    {
     "name": "stdout",
     "output_type": "stream",
     "text": [
      "[16]\n"
     ]
    }
   ],
   "source": [
    "# Example of image, take the transpose to see it in the right orientation\n",
    "example_image = np.reshape(NX_validation[332], (28, 28))\n",
    "plt.imshow(example_image.T)\n",
    "plt.show()\n",
    "print(validation_labels[332])"
   ]
  },
  {
   "cell_type": "code",
   "execution_count": 18,
   "metadata": {},
   "outputs": [],
   "source": [
    "# define constants\n",
    "n_epoch = 250 # 100 ?\n",
    "batch_size = 50\n",
    "n_batches = int(math.ceil(n_samples/batch_size))\n",
    "\n",
    "# define the size of each of the layers in the network\n",
    "n_input_layer  = img_size\n",
    "n_output_layer = nlabels\n",
    "\n",
    "# eta is the learning rate\n",
    "eta = 0.3\n",
    "r = 0.01\n",
    "lam = 0.00003"
   ]
  },
  {
   "cell_type": "code",
   "execution_count": 19,
   "metadata": {},
   "outputs": [],
   "source": [
    "def get_validation_score(test_set, W1, bias_W1, labels):\n",
    "    n = test_set.shape[0]\n",
    "\n",
    "    p_ra = 0\n",
    "    correct_value = np.zeros((n,))\n",
    "    predicted_value = np.zeros((n,))\n",
    "\n",
    "    for i in range(0, n):\n",
    "        x0 = test_set[i]\n",
    "        y = labels[i]\n",
    "        \n",
    "        dot_pro = np.dot(W1, x0) + bias_W1\n",
    "        act_out = np.maximum(0, dot_pro)\n",
    "\n",
    "        correct_value[i] = np.argmax(y)\n",
    "\n",
    "        predicted_value[i] = np.argmax(act_out)\n",
    "\n",
    "        if predicted_value[i] == correct_value[i]: \n",
    "            p_ra = (p_ra + 1)\n",
    "\n",
    "    accuracy = 100*p_ra/n \n",
    "    return accuracy"
   ]
  },
  {
   "cell_type": "code",
   "execution_count": 20,
   "metadata": {},
   "outputs": [
    {
     "name": "stdout",
     "output_type": "stream",
     "text": [
      "(26, 784)\n"
     ]
    }
   ],
   "source": [
    "# Kaiming or He Initialization Strategy\n",
    "\n",
    "# W1: Number of columns (input) needs to be equal to the number of features \n",
    "#     of the  EMNIST letters, thus p. Number of rows (output) should be equal \n",
    "#     to the number of neurons of the hidden layer thus n_hidden_layer.\n",
    "\n",
    "W1 = np.random.randn(n_output_layer, n_input_layer) * np.sqrt(2 / (n_input_layer))\n",
    "print(W1.shape)"
   ]
  },
  {
   "cell_type": "code",
   "execution_count": 21,
   "metadata": {},
   "outputs": [],
   "source": [
    "# Initialize the biases\n",
    "bias_W1 = np.zeros((n_output_layer,))"
   ]
  },
  {
   "cell_type": "code",
   "execution_count": 22,
   "metadata": {},
   "outputs": [],
   "source": [
    "# Keep track of the network inputs and average error per epoch\n",
    "errors = np.zeros((n_epoch,))\n",
    "weight_updates = np.zeros((n_epoch,))"
   ]
  },
  {
   "cell_type": "code",
   "execution_count": 23,
   "metadata": {},
   "outputs": [
    {
     "name": "stdout",
     "output_type": "stream",
     "text": [
      "[-1  1  1 -1 -1 -1  1  1  1  1]\n",
      "2\n",
      "[-3.e-05  3.e-05  3.e-05 -3.e-05 -3.e-05 -3.e-05  3.e-05  3.e-05  3.e-05\n",
      "  3.e-05]\n"
     ]
    }
   ],
   "source": [
    "def der_l1_pen(a):\n",
    "    a = np.where(a > 0, 1, a)\n",
    "    a = np.where(a <= 0, -1, a)\n",
    "    return a\n",
    "\n",
    "b = np.array([-1, 2, 4, -5, 0, -4, 5 , 6, 10, 11])\n",
    "print(der_l1_pen(b))\n",
    "print(np.sum(der_l1_pen(b)))\n",
    "print(lam * der_l1_pen(b))"
   ]
  },
  {
   "cell_type": "code",
   "execution_count": 24,
   "metadata": {},
   "outputs": [
    {
     "name": "stdout",
     "output_type": "stream",
     "text": [
      "Epoch  1 : error =  0.42296566406406727 : Sum(A) =  420.5115579510072\n",
      "Epoch  2 : error =  0.3631041747202164 : Sum(A) =  63.564696586047546\n",
      "Epoch  3 : error =  0.34061301345174544 : Sum(A) =  50.387354983684524\n"
     ]
    },
    {
     "ename": "KeyboardInterrupt",
     "evalue": "",
     "output_type": "error",
     "traceback": [
      "\u001b[0;31m---------------------------------------------------------------------------\u001b[0m",
      "\u001b[0;31mKeyboardInterrupt\u001b[0m                         Traceback (most recent call last)",
      "\u001b[0;32m<ipython-input-24-9067e2f2db1a>\u001b[0m in \u001b[0;36m<module>\u001b[0;34m\u001b[0m\n\u001b[1;32m     41\u001b[0m             \u001b[0mdelta1\u001b[0m \u001b[0;34m=\u001b[0m \u001b[0mDer_ReLU\u001b[0m\u001b[0;34m(\u001b[0m\u001b[0mx1\u001b[0m\u001b[0;34m)\u001b[0m \u001b[0;34m*\u001b[0m \u001b[0me_n\u001b[0m\u001b[0;34m\u001b[0m\u001b[0;34m\u001b[0m\u001b[0m\n\u001b[1;32m     42\u001b[0m \u001b[0;34m\u001b[0m\u001b[0m\n\u001b[0;32m---> 43\u001b[0;31m             \u001b[0mdW1\u001b[0m \u001b[0;34m+=\u001b[0m \u001b[0mnp\u001b[0m\u001b[0;34m.\u001b[0m\u001b[0mouter\u001b[0m\u001b[0;34m(\u001b[0m\u001b[0mdelta1\u001b[0m\u001b[0;34m,\u001b[0m\u001b[0mx0\u001b[0m\u001b[0;34m)\u001b[0m \u001b[0;31m#- d_l1\u001b[0m\u001b[0;34m\u001b[0m\u001b[0;34m\u001b[0m\u001b[0m\n\u001b[0m\u001b[1;32m     44\u001b[0m             \u001b[0mdbias_W1\u001b[0m \u001b[0;34m+=\u001b[0m \u001b[0mdelta1\u001b[0m\u001b[0;34m\u001b[0m\u001b[0;34m\u001b[0m\u001b[0m\n\u001b[1;32m     45\u001b[0m \u001b[0;34m\u001b[0m\u001b[0m\n",
      "\u001b[0;32m<__array_function__ internals>\u001b[0m in \u001b[0;36mouter\u001b[0;34m(*args, **kwargs)\u001b[0m\n",
      "\u001b[0;32m~/opt/anaconda3/lib/python3.8/site-packages/numpy/core/numeric.py\u001b[0m in \u001b[0;36mouter\u001b[0;34m(a, b, out)\u001b[0m\n\u001b[1;32m    904\u001b[0m     \u001b[0ma\u001b[0m \u001b[0;34m=\u001b[0m \u001b[0masarray\u001b[0m\u001b[0;34m(\u001b[0m\u001b[0ma\u001b[0m\u001b[0;34m)\u001b[0m\u001b[0;34m\u001b[0m\u001b[0;34m\u001b[0m\u001b[0m\n\u001b[1;32m    905\u001b[0m     \u001b[0mb\u001b[0m \u001b[0;34m=\u001b[0m \u001b[0masarray\u001b[0m\u001b[0;34m(\u001b[0m\u001b[0mb\u001b[0m\u001b[0;34m)\u001b[0m\u001b[0;34m\u001b[0m\u001b[0;34m\u001b[0m\u001b[0m\n\u001b[0;32m--> 906\u001b[0;31m     \u001b[0;32mreturn\u001b[0m \u001b[0mmultiply\u001b[0m\u001b[0;34m(\u001b[0m\u001b[0ma\u001b[0m\u001b[0;34m.\u001b[0m\u001b[0mravel\u001b[0m\u001b[0;34m(\u001b[0m\u001b[0;34m)\u001b[0m\u001b[0;34m[\u001b[0m\u001b[0;34m:\u001b[0m\u001b[0;34m,\u001b[0m \u001b[0mnewaxis\u001b[0m\u001b[0;34m]\u001b[0m\u001b[0;34m,\u001b[0m \u001b[0mb\u001b[0m\u001b[0;34m.\u001b[0m\u001b[0mravel\u001b[0m\u001b[0;34m(\u001b[0m\u001b[0;34m)\u001b[0m\u001b[0;34m[\u001b[0m\u001b[0mnewaxis\u001b[0m\u001b[0;34m,\u001b[0m \u001b[0;34m:\u001b[0m\u001b[0;34m]\u001b[0m\u001b[0;34m,\u001b[0m \u001b[0mout\u001b[0m\u001b[0;34m)\u001b[0m\u001b[0;34m\u001b[0m\u001b[0;34m\u001b[0m\u001b[0m\n\u001b[0m\u001b[1;32m    907\u001b[0m \u001b[0;34m\u001b[0m\u001b[0m\n\u001b[1;32m    908\u001b[0m \u001b[0;34m\u001b[0m\u001b[0m\n",
      "\u001b[0;31mKeyboardInterrupt\u001b[0m: "
     ]
    }
   ],
   "source": [
    "# Let's train the network\n",
    "\n",
    "for i in range(0, n_epoch):\n",
    "    \n",
    "    # Initialise the gradients for each batch\n",
    "    dW1 = np.zeros(W1.shape)\n",
    "    \n",
    "    # We will shuffle the order of the samples each epoch\n",
    "    shuffled_idxs = np.random.permutation(n_samples)\n",
    "    \n",
    "    for batch in range(0,n_batches):\n",
    "        # Initialise the gradients for each batch\n",
    "        dW1 = np.zeros(W1.shape)\n",
    "        # Bias vector\n",
    "        dbias_W1 = np.zeros(bias_W1.shape)\n",
    "            \n",
    "        # Loop over all the samples in the batch\n",
    "        for j in range(0,batch_size):\n",
    "\n",
    "            # Input (random element from the dataset)\n",
    "            idx = shuffled_idxs[batch*batch_size + j]\n",
    "            x0 = NX_train[idx]\n",
    "            \n",
    "            # Form the desired output, the correct neuron should have 1 the rest 0\n",
    "            desired_output = y_train[idx]\n",
    "\n",
    "            # Neural activation: input layer -> output layer\n",
    "            h1 = np.dot(W1,x0)+bias_W1\n",
    "\n",
    "            # Apply the ReLU function\n",
    "            x1 = np.maximum(0, h1)\n",
    "\n",
    "            # Compute the error signal\n",
    "            e_n = desired_output - x1\n",
    "            \n",
    "            # Compute the L1 penalty error\n",
    "            #s_l1 = lam * np.sum(np.absolute(dW1))\n",
    "            #d_l1 = lam * der_l1_pen(dW1)\n",
    "            \n",
    "            # Backpropagation: output layer -> input layer\n",
    "            delta1 = Der_ReLU(x1) * e_n \n",
    "            \n",
    "            dW1 += np.outer(delta1,x0) #- d_l1\n",
    "            dbias_W1 += delta1\n",
    "            \n",
    "            # Store the error, score per epoch\n",
    "            errors[i] = errors[i] + 0.5 * np.sum(np.square(e_n)) / n_samples \n",
    "        \n",
    "        if i == 0 :\n",
    "                weight_updates[i] = np.sum(np.absolute(dW1)) \n",
    "                average_matrix = dW1\n",
    "        else:\n",
    "                weight_updates[i] = np.sum(np.absolute(average_matrix * (1-r) + r*(dW1))) \n",
    "                average_matrix = (average_matrix * (1-r) + r*(dW1))\n",
    "        \n",
    "                \n",
    "        # After each batch update the weights using accumulated gradients\n",
    "        W1 += eta*dW1 / batch_size \n",
    "        bias_W1 += eta*dbias_W1/batch_size\n",
    "                \n",
    "    print( \"Epoch \", i+1, \": error = \", errors[i], \": Sum(A) = \", weight_updates[i])"
   ]
  },
  {
   "cell_type": "code",
   "execution_count": null,
   "metadata": {},
   "outputs": [],
   "source": [
    "# Plot the performance\n",
    "plt.plot(errors)\n",
    "plt.xlabel('Epoch')\n",
    "plt.ylabel('Error')\n",
    "plt.title('Average error per epoch')\n",
    "plt.show()"
   ]
  },
  {
   "cell_type": "code",
   "execution_count": null,
   "metadata": {},
   "outputs": [],
   "source": [
    "# Plot the performance\n",
    "plt.plot(weight_updates)\n",
    "plt.xlabel('Epoch')\n",
    "plt.ylabel('Weight Updates')\n",
    "plt.title('Weight Updates per epoch')\n",
    "plt.show()"
   ]
  },
  {
   "cell_type": "code",
   "execution_count": null,
   "metadata": {},
   "outputs": [],
   "source": [
    "# TODO: use the test set to compute the network's accuracy\n",
    "n = NX_test.shape[0]\n",
    "\n",
    "p_ra = 0\n",
    "correct_value = np.zeros((n,))\n",
    "predicted_value = np.zeros((n,))\n",
    "\n",
    "for i in range(0, n):\n",
    "    x0 = NX_test[i]\n",
    "    y = y_test[i]\n",
    "    \n",
    "    correct_value[i] = np.argmax(y)\n",
    "    \n",
    "    h1 = np.dot(W1, x0) + bias_W1\n",
    "    x1 = np.maximum(0, h1)\n",
    "    \n",
    "    predicted_value[i] = np.argmax(x1)\n",
    "            \n",
    "    if predicted_value[i] == correct_value[i]: \n",
    "        p_ra = (p_ra + 1)\n",
    "\n",
    "accuracy = 100*p_ra/n \n",
    "print(\"Accuracy = \", accuracy)"
   ]
  },
  {
   "cell_type": "code",
   "execution_count": null,
   "metadata": {},
   "outputs": [],
   "source": [
    "# TODO: use the test set to compute the network's accuracy\n",
    "n = NX_validation.shape[0]\n",
    "\n",
    "p_ra = 0\n",
    "correct_value = np.zeros((n,))\n",
    "predicted_value = np.zeros((n,))\n",
    "\n",
    "for i in range(0, n):\n",
    "    x0 = NX_validation[i]\n",
    "    y = y_validation[i]\n",
    "    \n",
    "    correct_value[i] = np.argmax(y)\n",
    "    \n",
    "    h1 = np.dot(W1, x0) + bias_W1\n",
    "    x1 = np.maximum(0, h1)\n",
    "    \n",
    "    predicted_value[i] = np.argmax(x1)\n",
    "            \n",
    "    if predicted_value[i] == correct_value[i]: \n",
    "        p_ra = (p_ra + 1)\n",
    "\n",
    "accuracy = 100*p_ra/n \n",
    "print(\"Accuracy = \", accuracy)"
   ]
  }
 ],
 "metadata": {
  "kernelspec": {
   "display_name": "Python 3 (ipykernel)",
   "language": "python",
   "name": "python3"
  },
  "language_info": {
   "codemirror_mode": {
    "name": "ipython",
    "version": 3
   },
   "file_extension": ".py",
   "mimetype": "text/x-python",
   "name": "python",
   "nbconvert_exporter": "python",
   "pygments_lexer": "ipython3",
   "version": "3.7.8"
  }
 },
 "nbformat": 4,
 "nbformat_minor": 4
}
