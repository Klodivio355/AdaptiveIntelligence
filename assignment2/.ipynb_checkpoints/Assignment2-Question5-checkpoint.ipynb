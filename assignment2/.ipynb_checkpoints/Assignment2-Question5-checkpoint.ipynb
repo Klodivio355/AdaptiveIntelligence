{
 "cells": [
  {
   "cell_type": "markdown",
   "metadata": {},
   "source": [
    "# Adaptive Intelligence Assignment 2\n",
    "\n",
    "I provide here an Python implementation of the Reinforcement Learning algorithms described in the assignment.\n",
    "This code is an extension of the code provided in the lab week 8 of the module, therefore, a major part of the credit goes to this implementation. "
   ]
  },
  {
   "cell_type": "code",
   "execution_count": 34,
   "metadata": {},
   "outputs": [],
   "source": [
    "import numpy as np\n",
    "import numpy as np\n",
    "import matplotlib.pyplot as plt\n",
    "import seaborn as sns\n",
    "%matplotlib inline"
   ]
  },
  {
   "cell_type": "code",
   "execution_count": 35,
   "metadata": {},
   "outputs": [],
   "source": [
    "def get_min_steps(x, y):\n",
    "    return (abs(x[0]-y[0]) + abs(x[1]-y[1]))\n",
    "\n",
    "def homing_nn(n_trials,n_steps,learning_rate,eps,gamma,lam, weights_display=False, heat_display=False):\n",
    "    ## Definition of the environment\n",
    "    N = 10                               #height of the gridworld ---> number of rows\n",
    "    M = 10                              #length of the gridworld ---> number of columns\n",
    "    N_states = N * M                    #total number of states\n",
    "    states_matrix = np.eye(N_states)\n",
    "    N_actions = 4                                           #number of possible actions in each state: 1->N 2->E 3->S 4->W\n",
    "    action_row_change = np.array([-1,0,+1,0])               #number of cell shifted in vertical as a function of the action\n",
    "    action_col_change = np.array([0,+1,0,-1])               #number of cell shifted in horizontal as a function of the action\n",
    "    End = np.array([3, 7])                                  #terminal state--->reward\n",
    "    s_end = np.ravel_multi_index(End,dims=(N,M),order='F')  #terminal state. Conversion in single index\n",
    "    \n",
    "    ## Rewards\n",
    "    R = 1                              #only when the robot reaches the charger, sited in End state\n",
    "\n",
    "    ## Variables\n",
    "    weights = np.random.rand(N_actions,N_states)\n",
    "    learning_curve = np.zeros((1,n_trials))\n",
    "    extra_steps = np.zeros((1, n_trials))\n",
    "    \n",
    "    e = np.zeros((N_actions, N_states))\n",
    "    heat_map = np.zeros((N_actions,1))\n",
    "    ## SARSA\n",
    "\n",
    "    # Start trials\n",
    "    for trial in range(n_trials):\n",
    "        \n",
    "        # Initialisation\n",
    "        Start = np.array([np.random.randint(N),np.random.randint(M)])   #random start\n",
    "        s_start = np.ravel_multi_index(Start,dims=(N,M),order='F')      #conversion in single index\n",
    "        min_steps = get_min_steps(Start, End)\n",
    "        state = Start                                                   #set current state\n",
    "        s_index = s_start                                               #conversion in single index\n",
    "        step = 0\n",
    "\n",
    "        # Start steps\n",
    "        while s_index != s_end and step <= n_steps:\n",
    "\n",
    "            step += 1\n",
    "            learning_curve[0,trial] = step\n",
    "\n",
    "            input_vector = states_matrix[:,s_index].reshape(N_states,1)         #convert the state into an input vector\n",
    "\n",
    "            #compute Qvalues. Qvalue=logsig(weights*input). Qvalue is 2x1, one value for each output neuron\n",
    "            Q = 1 / ( 1 + np.exp( - weights.dot(input_vector)))    #Qvalue is 2x1 implementation of logsig\n",
    "\n",
    "            #eps-greedy policy implementation\n",
    "            greedy = (np.random.rand() > eps)               #1--->greedy action 0--->non-greedy action\n",
    "            if greedy:\n",
    "                action = np.argmax(Q)                           #pick best action\n",
    "                #print('action when greedy ', action)\n",
    "            else:\n",
    "                action = np.random.randint(N_actions)           #pick random action\n",
    "\n",
    "            state_new = np.array([0,0])\n",
    "            #move into a new state\n",
    "            state_new[0] = state[0] + action_row_change[action]\n",
    "            state_new[1] = state[1] + action_col_change[action]\n",
    "\n",
    "            #put the robot back in grid if it goes out. Consider also the option to give a negative reward\n",
    "            if state_new[0] < 0:\n",
    "                state_new[0] = 0\n",
    "            if state_new[0] >= N:\n",
    "                state_new[0] = N-1\n",
    "            if state_new[1] < 0:\n",
    "                state_new[1] = 0\n",
    "            if state_new[1] >= M:\n",
    "                state_new[1] = M-1\n",
    "\n",
    "            s_index_new = np.ravel_multi_index(state_new,dims=(N,M),order='F')  #conversion in a single index\n",
    "            \n",
    "            ## TODO update Qvalues. Only if is not the first step\n",
    "            if step > 1:\n",
    "                delta = r_old - Q_old + gamma * Q[action]\n",
    "                e[action_old, s_index] += 1\n",
    "                e = e * gamma * lam + (output_old.dot(input_old.T))\n",
    "                dw = learning_rate * delta * e \n",
    "                weights += dw\n",
    "            \n",
    "            #store variables for sarsa computation in the next step\n",
    "            output = np.zeros((N_actions,1))\n",
    "            output[action] = 1\n",
    "\n",
    "            #update variables\n",
    "            input_old = input_vector\n",
    "            output_old = output\n",
    "            Q_old = Q[action]\n",
    "            r_old = 0\n",
    "\n",
    "            state[0] = state_new[0]\n",
    "            state[1] = state_new[1]\n",
    "            \n",
    "            # SARSA-Lambda\n",
    "            action_old = action\n",
    "            s_index = s_index_new\n",
    "            \n",
    "            ## TODO: check if state is terminal and update the weights consequently\n",
    "            if s_index == s_end:\n",
    "                delta = R + (gamma * Q[action]) - Q_old\n",
    "                e[action_old, s_index] += 1\n",
    "                e = e * gamma * lam + (output_old.dot(input_old.T))\n",
    "                dw = learning_rate * delta * e \n",
    "                weights += dw\n",
    "            if step == n_steps:\n",
    "                delta = -R + (gamma * Q[action]) - Q_old\n",
    "                e[action_old, s_index] += 1\n",
    "                e = e * gamma * lam + (output_old.dot(input_old.T))\n",
    "                dw = learning_rate * delta * e \n",
    "                weights += dw\n",
    "                \n",
    "        extra_steps[0,trial] = step - min_steps\n",
    "        \n",
    "        heat_map += Q\n",
    "        \n",
    "    if weights_display:\n",
    "        return weights\n",
    "    elif heat_display:\n",
    "        return heat_map/n_trials\n",
    "    else:\n",
    "        return extra_steps"
   ]
  },
  {
   "cell_type": "code",
   "execution_count": 36,
   "metadata": {},
   "outputs": [
    {
     "name": "stdout",
     "output_type": "stream",
     "text": [
      "0\n",
      "1\n",
      "2\n",
      "3\n",
      "4\n",
      "5\n",
      "6\n",
      "7\n",
      "8\n",
      "9\n",
      "10\n",
      "11\n",
      "12\n",
      "13\n",
      "14\n"
     ]
    }
   ],
   "source": [
    "# Parameter setup\n",
    "nrepetitions = 15;  # number of runs for the algorithm\n",
    "nTrials = 2000;     # should be integer >0\n",
    "nSteps = 50;        # maximum number of allowed steps \n",
    "learningRate = 1;   # should be real, Greater than 0\n",
    "epsilon = 0;        # should be real, Greater or Equal to 0; epsion=0 Greedy, otherwise epsilon-Greedy\n",
    "gamma = 0.9;        # should be real, positive, smaller than 1\n",
    "lam = 0;\n",
    "\n",
    "total_heatmaps = np.zeros((4,nrepetitions))\n",
    "parameters = np.arange(0, 1.1, 0.1)\n",
    "results = []\n",
    "\n",
    "y_axis_labels = ['North', 'East', 'South', 'West']\n",
    "for j in range(nrepetitions):\n",
    "    print(j)\n",
    "    total_heatmaps[:,j] = homing_nn(nTrials,nSteps,learningRate,epsilon,gamma,lam,heat_display=True).T"
   ]
  },
  {
   "cell_type": "code",
   "execution_count": 37,
   "metadata": {},
   "outputs": [
    {
     "data": {
      "image/png": "[encoded data removed]",
      "text/plain": [
       "<Figure size 432x288 with 2 Axes>"
      ]
     },
     "metadata": {
      "needs_background": "light"
     },
     "output_type": "display_data"
    }
   ],
   "source": [
    "means = np.mean(total_heatmaps, axis = 1, keepdims=True)\n",
    "ax = sns.heatmap(means, center = 0, linewidths=.5, yticklabels=y_axis_labels)"
   ]
  },
  {
   "cell_type": "code",
   "execution_count": 38,
   "metadata": {},
   "outputs": [
    {
     "name": "stdout",
     "output_type": "stream",
     "text": [
      "0\n",
      "1\n",
      "2\n",
      "3\n",
      "4\n",
      "5\n",
      "6\n",
      "7\n",
      "8\n",
      "9\n",
      "10\n",
      "11\n",
      "12\n",
      "13\n",
      "14\n"
     ]
    }
   ],
   "source": [
    "total_extra_steps = np.zeros((nrepetitions,nTrials))\n",
    "for j in range(nrepetitions):\n",
    "    print(j)\n",
    "    total_extra_steps[j,:] = homing_nn(nTrials,nSteps,learningRate,epsilon,gamma,lam)\n",
    "means = np.mean(total_extra_steps, axis=0)"
   ]
  },
  {
   "cell_type": "code",
   "execution_count": 39,
   "metadata": {},
   "outputs": [
    {
     "name": "stdout",
     "output_type": "stream",
     "text": [
      "0.7875111111111113\n"
     ]
    },
    {
     "data": {
      "image/png": "[encoded data removed]",
      "text/plain": [
       "<Figure size 432x288 with 1 Axes>"
      ]
     },
     "metadata": {
      "needs_background": "light"
     },
     "output_type": "display_data"
    }
   ],
   "source": [
    "plt.title(\"Repetitions = 15, $\\epsilon$ = 0, $\\eta$ = 1, $\\gamma$ = 0.9, $\\lambda$ = 0.5\")\n",
    "plt.plot(means)\n",
    "plt.xlabel(\"Trials\")\n",
    "plt.ylabel(\"Average Extra Step\")\n",
    "av_steps_500 = np.mean(means[500:])\n",
    "print(av_steps_500)"
   ]
  },
  {
   "cell_type": "code",
   "execution_count": 40,
   "metadata": {},
   "outputs": [
    {
     "data": {
      "image/png": "[encoded data removed]",
      "text/plain": [
       "<Figure size 432x288 with 1 Axes>"
      ]
     },
     "metadata": {
      "needs_background": "light"
     },
     "output_type": "display_data"
    }
   ],
   "source": [
    "from scipy.ndimage import gaussian_filter1d\n",
    "\n",
    "errors = np.std(total_extra_steps, axis = 0) / np.sqrt(nrepetitions) # errorbars are equal to twice standard error i.e. std/sqrt(samples)\n",
    "\n",
    "smooth_means = gaussian_filter1d(means, 2)\n",
    "smooth_errors = gaussian_filter1d(errors, 2)\n",
    "\n",
    "plt.errorbar(np.arange(nTrials), smooth_means, smooth_errors, 0, elinewidth = 0.1, capsize = 1, alpha =0.2)\n",
    "plt.plot(smooth_means, 'tab:blue') # Plot the mean on top to standout\n",
    "\n",
    "plt.title(\"Repetitions = 15, $\\epsilon$ = 0, $\\eta$ = 1, $\\gamma$ = 0.9, $\\lambda$ = 0.7\")\n",
    "plt.xlabel('Trial',fontsize = 16)\n",
    "plt.ylabel('Average Extra Steps',fontsize = 16)\n",
    "plt.tick_params(axis = 'both', which='major', labelsize = 14)\n",
    "plt.savefig('lam_0.7.png', dpi=300)\n",
    "plt.show()"
   ]
  },
  {
   "cell_type": "code",
   "execution_count": 41,
   "metadata": {},
   "outputs": [],
   "source": [
    "x = homing_nn(nTrials,nSteps,learningRate,epsilon,gamma,lam,weights_display=True)"
   ]
  },
  {
   "cell_type": "code",
   "execution_count": 42,
   "metadata": {},
   "outputs": [],
   "source": [
    "def column(matrix, i):\n",
    "    return [row[i] for row in matrix]\n",
    "first_col = column(x, 0)\n",
    "#print(first_col)\n",
    "\n",
    "# rows = actions\n",
    "# columns = states\n",
    "\n",
    "result = np.argmax(first_col)\n",
    "#print(result)\n",
    "\n",
    "results = np.zeros(100)\n",
    "\n",
    "for i in range(len(x[0])):\n",
    "    p = column(x, i)\n",
    "    arg_max = np.argmax(p)\n",
    "    results[i] = arg_max\n",
    "    \n",
    "results = results.reshape(10,10)"
   ]
  },
  {
   "cell_type": "code",
   "execution_count": 43,
   "metadata": {},
   "outputs": [
    {
     "data": {
      "text/plain": [
       "<matplotlib.axes._subplots.AxesSubplot at 0x7f8dbf528d00>"
      ]
     },
     "execution_count": 43,
     "metadata": {},
     "output_type": "execute_result"
    },
    {
     "data": {
      "image/png": "[encoded data removed]",
      "text/plain": [
       "<Figure size 432x288 with 2 Axes>"
      ]
     },
     "metadata": {},
     "output_type": "display_data"
    }
   ],
   "source": [
    "import seaborn as sns\n",
    "sns.set()\n",
    "\n",
    "sns.heatmap(results.astype(int), annot=True, fmt=\"d\")\n",
    "# 0->N 1->E 2->S 3->W"
   ]
  },
  {
   "cell_type": "code",
   "execution_count": null,
   "metadata": {},
   "outputs": [],
   "source": []
  }
 ],
 "metadata": {
  "kernelspec": {
   "display_name": "Python 3",
   "language": "python",
   "name": "python3"
  },
  "language_info": {
   "codemirror_mode": {
    "name": "ipython",
    "version": 3
   },
   "file_extension": ".py",
   "mimetype": "text/x-python",
   "name": "python",
   "nbconvert_exporter": "python",
   "pygments_lexer": "ipython3",
   "version": "3.8.3"
  }
 },
 "nbformat": 4,
 "nbformat_minor": 4
}
