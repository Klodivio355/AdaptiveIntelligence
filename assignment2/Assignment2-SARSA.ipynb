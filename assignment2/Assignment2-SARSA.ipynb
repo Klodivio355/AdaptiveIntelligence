{
 "cells": [
  {
   "cell_type": "markdown",
   "metadata": {},
   "source": [
    "# Adaptive Intelligence Assignment 2\n",
    "\n",
    "I provide here an Python implementation of the Reinforcement Learning algorithms described in the assignment.\n",
    "This code is an extension of the code provided in the lab week 8 of the module, therefore, a major part of the credit goes to this implementation. "
   ]
  },
  {
   "cell_type": "code",
   "execution_count": 1,
   "metadata": {},
   "outputs": [],
   "source": [
    "import numpy as np\n",
    "import numpy as np\n",
    "import matplotlib.pyplot as plt\n",
    "%matplotlib inline"
   ]
  },
  {
   "cell_type": "code",
   "execution_count": 2,
   "metadata": {},
   "outputs": [],
   "source": [
    "def get_min_steps(x, y):\n",
    "    return (abs(x[0]-y[0]) + abs(x[1]-y[1]))\n",
    "\n",
    "def homing_nn(n_trials,n_steps,learning_rate,eps,gamma,tracking_matrix_display=False):\n",
    "    ## Definition of the environment\n",
    "    N = 10                               #height of the gridworld ---> number of rows\n",
    "    M = 10                              #length of the gridworld ---> number of columns\n",
    "    N_states = N * M                    #total number of states\n",
    "    tracking_matrix = np.zeros((N, M))\n",
    "    states_matrix = np.eye(N_states)\n",
    "    N_actions = 4                                           #number of possible actions in each state: 1->N 2->E 3->S 4->W\n",
    "    action_row_change = np.array([-1,0,+1,0])               #number of cell shifted in vertical as a function of the action\n",
    "    action_col_change = np.array([0,+1,0,-1])               #number of cell shifted in horizontal as a function of the action\n",
    "    End = np.array([7, 3])                                  #terminal state--->reward\n",
    "    s_end = np.ravel_multi_index(End,dims=(N,M),order='F')  #terminal state. Conversion in single index\n",
    "    \n",
    "    ## Rewards\n",
    "    R = 1                              #only when the robot reaches the charger, sited in End state\n",
    "\n",
    "    ## Variables\n",
    "    weights = np.random.rand(N_actions,N_states)\n",
    "    learning_curve = np.zeros((1,n_trials))\n",
    "    extra_steps = np.zeros((1, n_trials))\n",
    "    \n",
    "    ## SARSA\n",
    "\n",
    "    # Start trials\n",
    "    for trial in range(n_trials):\n",
    "        \n",
    "        # Initialization\n",
    "        Start = np.array([np.random.randint(N),np.random.randint(M)])   #random start\n",
    "        #print('Start ', Start)\n",
    "        s_start = np.ravel_multi_index(Start,dims=(N,M),order='F')      #conversion in single index\n",
    "        #print('Start Index ', s_start)\n",
    "        #print('End ', End)\n",
    "        #print('Minim Distance ', get_min_steps(Start, End))\n",
    "        min_steps = get_min_steps(Start, End)\n",
    "        #print('End Index ', s_end)\n",
    "        state = Start                                                   #set current state\n",
    "        s_index = s_start                                               #conversion in single index\n",
    "        step = 0\n",
    "\n",
    "        # Start steps\n",
    "        while s_index != s_end and step <= n_steps:\n",
    "\n",
    "            step += 1\n",
    "            learning_curve[0,trial] = step\n",
    "\n",
    "            input_vector = states_matrix[:,s_index].reshape(N_states,1)         #convert the state into an input vector\n",
    "\n",
    "            #compute Qvalues. Qvalue=logsig(weights*input). Qvalue is 2x1, one value for each output neuron\n",
    "            Q = 1 / ( 1 + np.exp( - weights.dot(input_vector)))    #Qvalue is 2x1 implementation of logsig\n",
    "\n",
    "            #eps-greedy policy implementation\n",
    "            greedy = (np.random.rand() > eps)               #1--->greedy action 0--->non-greedy action\n",
    "            if greedy:\n",
    "                action = np.argmax(Q)                           #pick best action\n",
    "            else:\n",
    "                action = np.random.randint(N_actions)           #pick random action\n",
    "\n",
    "\n",
    "            state_new = np.array([0,0])\n",
    "            #move into a new state\n",
    "            state_new[0] = state[0] + action_row_change[action]\n",
    "            state_new[1] = state[1] + action_col_change[action]\n",
    "\n",
    "            #put the robot back in grid if it goes out. Consider also the option to give a negative reward\n",
    "            if state_new[0] < 0:\n",
    "                state_new[0] = 0\n",
    "            if state_new[0] >= N:\n",
    "                state_new[0] = N-1\n",
    "            if state_new[1] < 0:\n",
    "                state_new[1] = 0\n",
    "            if state_new[1] >= M:\n",
    "                state_new[1] = M-1\n",
    "\n",
    "            s_index_new = np.ravel_multi_index(state_new,dims=(N,M),order='F')  #conversion in a single index\n",
    "            \n",
    "            ## TODO update Qvalues. Only if is not the first step\n",
    "            if step > 1:\n",
    "                dw = learning_rate*(r_old - Q_old + gamma * Q[action]) * output_old.dot(input_old.T)\n",
    "                weights += dw\n",
    "\n",
    "            #store variables for sarsa computation in the next step\n",
    "            output = np.zeros((N_actions,1))\n",
    "            output[action] = 1\n",
    "\n",
    "            #update variables\n",
    "            input_old = input_vector\n",
    "            output_old = output\n",
    "            Q_old = Q[action]\n",
    "            r_old = 0\n",
    "\n",
    "            state[0] = state_new[0]\n",
    "            state[1] = state_new[1]\n",
    "            s_index = s_index_new\n",
    "            \n",
    "            tracking_matrix[state_new[0]][state_new[1]] += 1\n",
    "\n",
    "            ## TODO: check if state is terminal and update the weights consequently\n",
    "            if s_index == s_end:\n",
    "                dw = learningRate * (R - Q_old) * output_old*input_old.T\n",
    "                weights += dw\n",
    "            if step == n_steps:\n",
    "                dw = learningRate * (-R - Q_old) * output_old*input_old.T\n",
    "                weights += dw\n",
    "                \n",
    "        extra_steps[0,trial] = step - min_steps\n",
    "        \n",
    "    if tracking_matrix_display:\n",
    "        return tracking_matrix\n",
    "    else:\n",
    "        return extra_steps"
   ]
  },
  {
   "cell_type": "code",
   "execution_count": 351,
   "metadata": {},
   "outputs": [
    {
     "name": "stdout",
     "output_type": "stream",
     "text": [
      "0\n",
      "1\n",
      "2\n",
      "3\n",
      "4\n",
      "5\n",
      "6\n",
      "7\n",
      "8\n",
      "9\n",
      "10\n",
      "11\n",
      "12\n",
      "13\n",
      "14\n"
     ]
    }
   ],
   "source": [
    "# Parameter setup\n",
    "nrepetitions = 15;  # number of runs for the algorithm\n",
    "nTrials = 2000;     # should be integer >0\n",
    "nSteps = 50;        # maximum number of allowed steps \n",
    "learningRate = 1; # should be real, Greater than 0\n",
    "epsilon = 0;     # should be real, Greater or Equal to 0; epsion=0 Greedy, otherwise epsilon-Greedy\n",
    "gamma = 0.9;        # should be real, positive, smaller than 1\n",
    "\n",
    "\n",
    "total_extra_steps = np.zeros((nrepetitions,nTrials))\n",
    "\n",
    "for j in range(nrepetitions):\n",
    "    print(j)\n",
    "    total_extra_steps[j,:] = homing_nn(nTrials,nSteps,learningRate,epsilon,gamma)\n",
    "    \n",
    "means = np.mean(total_extra_steps, axis=0)"
   ]
  },
  {
   "cell_type": "code",
   "execution_count": 353,
   "metadata": {},
   "outputs": [
    {
     "name": "stdout",
     "output_type": "stream",
     "text": [
      "0.7484000000000001\n"
     ]
    },
    {
     "data": {
      "image/png": "[encoded data removed]",
      "text/plain": [
       "<Figure size 432x288 with 1 Axes>"
      ]
     },
     "metadata": {
      "needs_background": "light"
     },
     "output_type": "display_data"
    }
   ],
   "source": [
    "plt.title(\"Repetitions = 15, $\\epsilon$ = 0.2, $\\eta$ = 0.3\")\n",
    "plt.plot(means)\n",
    "plt.xlabel(\"Trials\")\n",
    "plt.ylabel(\"Average Extra Step\")\n",
    "av_steps_500 = np.mean(means[500:])\n",
    "print(av_steps_500)"
   ]
  },
  {
   "cell_type": "code",
   "execution_count": 359,
   "metadata": {},
   "outputs": [
    {
     "data": {
      "image/png": "[encoded data removed]",
      "text/plain": [
       "<Figure size 432x288 with 1 Axes>"
      ]
     },
     "metadata": {
      "needs_background": "light"
     },
     "output_type": "display_data"
    }
   ],
   "source": [
    "from scipy.ndimage import gaussian_filter1d\n",
    "\n",
    "errors = np.std(total_extra_steps, axis = 0) / np.sqrt(nrepetitions) # errorbars are equal to twice standard error i.e. std/sqrt(samples)\n",
    "\n",
    "smooth_means = gaussian_filter1d(means, 2)\n",
    "smooth_errors = gaussian_filter1d(errors, 2)\n",
    "\n",
    "plt.errorbar(np.arange(nTrials), smooth_means, smooth_errors, 0, elinewidth = 0.1, capsize = 1, alpha =0.2)\n",
    "plt.plot(smooth_means, 'tab:blue') # Plot the mean on top to standout\n",
    "\n",
    "plt.title(\"Repetitions = 15, $\\epsilon$ = 0, $\\eta$ = 1, $\\gamma$ = 0.9\")\n",
    "plt.xlabel('Trial',fontsize = 16)\n",
    "plt.ylabel('Average Extra Steps',fontsize = 16)\n",
    "plt.tick_params(axis = 'both', which='major', labelsize = 14)\n",
    "plt.savefig('before_eligibility.png', dpi=300)\n",
    "plt.show()"
   ]
  },
  {
   "cell_type": "code",
   "execution_count": 9,
   "metadata": {},
   "outputs": [
    {
     "name": "stdout",
     "output_type": "stream",
     "text": [
      "0\n",
      "1\n",
      "2\n",
      "3\n",
      "4\n",
      "5\n",
      "6\n",
      "7\n",
      "8\n",
      "9\n",
      "10\n",
      "11\n",
      "12\n",
      "13\n",
      "14\n"
     ]
    },
    {
     "data": {
      "text/plain": [
       "Text(0.5, 1.0, 'Repetitions = 15, $\\\\epsilon$ = 0.85, $\\\\eta$ = 1')"
      ]
     },
     "execution_count": 9,
     "metadata": {},
     "output_type": "execute_result"
    },
    {
     "data": {
      "image/png": "[encoded data removed]",
      "text/plain": [
       "<Figure size 432x288 with 2 Axes>"
      ]
     },
     "metadata": {},
     "output_type": "display_data"
    }
   ],
   "source": [
    "import seaborn as sns\n",
    "sns.set()\n",
    "\n",
    "x = np.zeros((10,10))\n",
    "\n",
    "# Parameter setup\n",
    "nrepetitions = 15;  # number of runs for the algorithm\n",
    "nTrials = 2000;     # should be integer >0\n",
    "nSteps = 50;        # maximum number of allowed steps \n",
    "learningRate = 1; # should be real, Greater than 0\n",
    "epsilon = 0.85;     # should be real, Greater or Equal to 0; epsion=0 Greedy, otherwise epsilon-Greedy\n",
    "gamma = 0.9;        # should be real, positive, smaller than 1\n",
    "\n",
    "for j in range(15):\n",
    "    print(j)\n",
    "    x += homing_nn(nTrials,nSteps,learningRate,epsilon,gamma,tracking_matrix_display=True)\n",
    "    \n",
    "x = x/15\n",
    "\n",
    "ax = plt.axes()\n",
    "sns.heatmap(x.astype(int), ax = ax)\n",
    "ax.set_title('Repetitions = 15, $\\epsilon$ = 0.85, $\\eta$ = 1')"
   ]
  },
  {
   "cell_type": "code",
   "execution_count": null,
   "metadata": {},
   "outputs": [],
   "source": []
  }
 ],
 "metadata": {
  "kernelspec": {
   "display_name": "Python 3",
   "language": "python",
   "name": "python3"
  },
  "language_info": {
   "codemirror_mode": {
    "name": "ipython",
    "version": 3
   },
   "file_extension": ".py",
   "mimetype": "text/x-python",
   "name": "python",
   "nbconvert_exporter": "python",
   "pygments_lexer": "ipython3",
   "version": "3.8.3"
  }
 },
 "nbformat": 4,
 "nbformat_minor": 4
}
